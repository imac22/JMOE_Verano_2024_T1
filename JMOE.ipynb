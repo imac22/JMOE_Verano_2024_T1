{
 "cells": [
  {
   "cell_type": "code",
   "execution_count": 2,
   "metadata": {},
   "outputs": [],
   "source": [
    "import codigo_base.chavez as c\n",
    "import codigo_base.cha as cha\n",
    "import codigo_base.fr as fr\n",
    "import codigo_base.fa as fa\n",
    "import codigo_base.chema as che\n",
    "import codigo_base.escamilla as esc\n",
    "import codigo_base.isai as i\n",
    "\n",
    "\n",
    "import codigo_base.jose as j\n",
    "import codigo_base.gustavo as g\n",
    "import codigo_base.milagros as m\n",
    "import codigo_base.rosario as r\n",
    "\n",
    "import codigo_base.formatear_tabla as ft\n",
    "import codigo_base.lopez as p\n",
    "import codigo_base.ortiz as o\n",
    "import codigo_base.falcon as f\n",
    "\n",
    "# Graficas\n",
    "\n",
    "\n",
    "import codigo_base.reyes as re\n",
    "import codigo_base.montaño as me\n",
    "import codigo_base.caracas as ca\n",
    "import codigo_base.car as car\n",
    "import codigo_base.paz as pa\n",
    "import codigo_base.atanacio as at"
   ]
  },
  {
   "cell_type": "markdown",
   "metadata": {},
   "source": [
    "# Ejercicio 15\n",
    "### Seccion a y b"
   ]
  },
  {
   "cell_type": "code",
   "execution_count": 3,
   "metadata": {},
   "outputs": [
    {
     "name": "stdout",
     "output_type": "stream",
     "text": [
      "       Clases  F absoluta  F relativa  F acumulada\n",
      "0      FLORES           4         4.0          4.0\n",
      "1      GARCÍA          14        14.0         18.0\n",
      "2    GONZÁLEZ          12        12.0         30.0\n",
      "3   GUTIÉRREZ           4         4.0         34.0\n",
      "4   HERNÁNDEZ          15        15.0         49.0\n",
      "5       LÓPEZ          10        10.0         59.0\n",
      "6    MARTÍNEZ          12        12.0         71.0\n",
      "7       PÉREZ           6         6.0         77.0\n",
      "8     RAMÍREZ           6         6.0         83.0\n",
      "9   RODRÍGUEZ           9         9.0         92.0\n",
      "10    SÁNCHEZ           8         8.0        100.0\n"
     ]
    }
   ],
   "source": [
    "tabla = [\n",
    "  \"Ramírez\", \"García\", \"González\", \"Rodríguez\", \"Pérez\", \"Martínez\", \"García\", \"López\", \"Gutiérrez\", \"López\",\n",
    "  \"Rodríguez\", \"Martínez\", \"Rodríguez\", \"Hernández\", \"García\", \"García\", \"González\", \"Hernández\", \"García\", \"Gutiérrez\",\n",
    "  \"Hernández\", \"López\", \"Pérez\", \"González\", \"Martínez\", \"Ramírez\", \"García\", \"Rodríguez\", \"Hernández\", \"Sánchez\",\n",
    "  \"Hernández\", \"González\", \"Rodríguez\", \"Sánchez\", \"Hernández\", \"González\", \"Gutiérrez\", \"Martínez\", \"González\", \"Rodríguez\",\n",
    "  \"Rodríguez\", \"Martínez\", \"Ramírez\", \"Pérez\", \"Sánchez\", \"Hernández\", \"Hernández\", \"González\", \"García\", \"Hernández\",\n",
    "  \"Rodríguez\", \"López\", \"Sánchez\", \"Rodríguez\", \"Ramírez\", \"López\", \"Martínez\", \"García\", \"García\", \"Hernández\",\n",
    "  \"González\", \"López\", \"Martínez\", \"López\", \"García\", \"Sánchez\", \"García\", \"Hernández\", \"Flores\", \"Pérez\",\n",
    "  \"González\", \"González\", \"López\", \"Martínez\", \"González\", \"Martínez\", \"Hernández\", \"Ramírez\", \"López\", \"Sánchez\",\n",
    "  \"Ramírez\", \"Gutiérrez\", \"Sánchez\", \"Flores\", \"García\", \"Martínez\", \"García\", \"Flores\", \"Pérez\", \"López\",\n",
    "  \"Hernández\", \"Martínez\", \"García\", \"Hernández\", \"Flores\", \"Pérez\", \"González\", \"Hernández\", \"Sánchez\", \"Martínez\"\n",
    "]\n",
    "\n",
    "datosF = p.format_list(tabla) #Cambia el formato de los datos del arreglo\n",
    "\n",
    "clases, fa_absoluta = r.frec_abs(datosF) #Calcula las clases unicas asi como su F_absoluta\n",
    "\n",
    "clases_sorted = o.clases_str_sort(clases) #Ordena las clases por ordes alfabetico\n",
    "\n",
    "fa_sorted = m.sort_clases_fa(clases, clases_sorted, fa_absoluta) #Ordena las F_absolutas\n",
    "\n",
    "fr_relativa =  g.frecuencia_rel(fa_sorted) #Calculas las F_relativas\n",
    "\n",
    "fr_acum = j.calcular_frecuencia_a(fr_relativa) #Calculas las F_acomuladas\n",
    "\n",
    "tabla = ft.imptabla(clases_sorted, fa_sorted, fr_relativa, fr_acum) #Ordena los datos recabados en una tabla\n",
    "print (tabla) #Impresion de la tabla\n",
    "\n"
   ]
  }
 ],
 "metadata": {
  "kernelspec": {
   "display_name": "Python 3",
   "language": "python",
   "name": "python3"
  },
  "language_info": {
   "codemirror_mode": {
    "name": "ipython",
    "version": 3
   },
   "file_extension": ".py",
   "mimetype": "text/x-python",
   "name": "python",
   "nbconvert_exporter": "python",
   "pygments_lexer": "ipython3",
   "version": "3.11.4"
  }
 },
 "nbformat": 4,
 "nbformat_minor": 2
}
